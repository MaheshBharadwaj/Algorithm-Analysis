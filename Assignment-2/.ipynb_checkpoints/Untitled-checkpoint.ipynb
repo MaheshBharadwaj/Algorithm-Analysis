{
 "cells": [
  {
   "cell_type": "code",
   "execution_count": 4,
   "metadata": {},
   "outputs": [],
   "source": [
    "import time\n",
    "import random\n",
    "import math\n"
   ]
  },
  {
   "cell_type": "code",
   "execution_count": null,
   "metadata": {},
   "outputs": [
    {
     "name": "stdout",
     "output_type": "stream",
     "text": [
      "+------+-------------+----------------+----------------+----------------+----------------+----------------+\n",
      "| Size |   Avg Time  |              N |            N^2 |            N^3 |          Log N |        N Log N | \n",
      "+------+-------------+----------------+----------------+----------------+----------------+----------------+\n",
      "|  464 |    1.146941 | 0.0024718547690 |       0.000005 |       0.000000 |       0.186802 |       0.000403 |\n",
      "|  213 |    0.114364 | 0.0005369219981 |       0.000003 |       0.000000 |       0.021331 |       0.000100 |\n",
      "|  488 |    1.427229 | 0.0029246505655 |       0.000006 |       0.000000 |       0.230558 |       0.000472 |\n",
      "|  415 |    0.845674 | 0.0020377684789 |       0.000005 |       0.000000 |       0.140284 |       0.000338 |\n",
      "|  238 |    0.153977 | 0.0006469632397 |       0.000003 |       0.000000 |       0.028138 |       0.000118 |\n"
     ]
    }
   ],
   "source": [
    "\n",
    "def getMaxSum(x):\n",
    "\tn = len(x)\n",
    "\tmaxSum = 0\n",
    "\tfor i in range(n):\n",
    "\t\tfor j in range(i,n):\n",
    "\t\t\tthisSum = 0\n",
    "\t\t\tfor k in range(i,j+1):\n",
    "\t\t\t\tthisSum += x[k]\n",
    "\t\t\tif thisSum > maxSum:\n",
    "\t\t\t\tmaxSum = thisSum\n",
    "\treturn maxSum\n",
    "print('+------+-------------+----------------+----------------+----------------+----------------+----------------+')\n",
    "print('| %4s | %10s  | %14s | %14s | %14s | %14s | %14s | ' %('Size','Avg Time','N','N^2','N^3','Log N','N Log N'))\n",
    "print('+------+-------------+----------------+----------------+----------------+----------------+----------------+')\n",
    "\n",
    "inputList = []\n",
    "for count in range(10):\n",
    "    size = random.randint(200,500)\n",
    "    sq = size ** 2\n",
    "    cu = size ** 3\n",
    "    lg = math.log(size)\n",
    "    nlg = size * lg\n",
    "    time_taken = 0\t\t\n",
    "    for iteration in range(10):\n",
    "        inputList = []\n",
    "\n",
    "        for i in range(size):\t\t\n",
    "            inputList.append(random.randint(-100,100))\n",
    "\n",
    "        start_time = time.time()\n",
    "        getMaxSum(inputList)\n",
    "        end_time = time.time()\n",
    "        time_taken += (end_time - start_time)\n",
    "        avg_time = time_taken / 10\n",
    "\n",
    "    print('| %4d | %11lf | %1.12lf | %1.12lf | %1.12lf | %1.12lf | %1.12lf |' % (size,avg_time,(avg_time/size),(avg_time/sq),(avg_time/cu),(avg_time/lg),(avg_time/nlg)))\n",
    "\n",
    "print('+------+-------------+----------------+----------------+----------------+----------------+----------------+')\n"
   ]
  },
  {
   "cell_type": "code",
   "execution_count": null,
   "metadata": {},
   "outputs": [],
   "source": []
  }
 ],
 "metadata": {
  "kernelspec": {
   "display_name": "tf2",
   "language": "python",
   "name": "tf2"
  },
  "language_info": {
   "codemirror_mode": {
    "name": "ipython",
    "version": 3
   },
   "file_extension": ".py",
   "mimetype": "text/x-python",
   "name": "python",
   "nbconvert_exporter": "python",
   "pygments_lexer": "ipython3",
   "version": "3.7.3"
  }
 },
 "nbformat": 4,
 "nbformat_minor": 2
}
